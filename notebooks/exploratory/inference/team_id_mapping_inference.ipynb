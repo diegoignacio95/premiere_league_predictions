{
 "cells": [
  {
   "cell_type": "markdown",
   "metadata": {},
   "source": [
    "# Team ID Mapping for Inference\n",
    "\n",
    "This notebook extracts current team IDs from FBRef for inference purposes. It focuses on the current season and active teams for making predictions."
   ]
  },
  {
   "cell_type": "code",
   "execution_count": 1,
   "metadata": {},
   "outputs": [
    {
     "name": "stderr",
     "output_type": "stream",
     "text": [
      "c:\\Users\\50230\\anaconda3\\lib\\site-packages\\pandas\\core\\arrays\\masked.py:61: UserWarning: Pandas requires version '1.3.6' or newer of 'bottleneck' (version '1.3.5' currently installed).\n",
      "  from pandas.core import (\n"
     ]
    }
   ],
   "source": [
    "import requests\n",
    "from bs4 import BeautifulSoup\n",
    "import pandas as pd\n",
    "import time\n",
    "import random\n",
    "import re\n",
    "from urllib.parse import urljoin, urlparse\n",
    "import json\n",
    "\n",
    "# Headers to appear more like a regular browser\n",
    "headers = {\n",
    "    'User-Agent': 'Mozilla/5.0 (Windows NT 10.0; Win64; x64) AppleWebKit/537.36 (KHTML, like Gecko) Chrome/91.0.4472.124 Safari/537.36'\n",
    "}\n",
    "\n",
    "def get_page(url):\n",
    "    \"\"\"Fetch page with error handling and rate limiting\"\"\"\n",
    "    time.sleep(random.uniform(2, 4))  # Be respectful - random delay\n",
    "    \n",
    "    try:\n",
    "        response = requests.get(url, headers=headers)\n",
    "        response.raise_for_status()\n",
    "        return BeautifulSoup(response.content, 'html.parser')\n",
    "    except requests.RequestException as e:\n",
    "        print(f\"Error fetching {url}: {e}\")\n",
    "        return None"
   ]
  },
  {
   "cell_type": "code",
   "execution_count": 16,
   "metadata": {},
   "outputs": [],
   "source": [
    "# Extract teams from 2025-2026 season - CURRENT SEASON TABLE\n",
    "def extract_teams_2025_2026():\n",
    "    \"\"\"\n",
    "    Extract team IDs and names from the 2025-2026 Premier League season\n",
    "    Uses the current season table from https://fbref.com/en/comps/9/Premier-League-Stats\n",
    "    \"\"\"\n",
    "    url = \"https://fbref.com/en/comps/9/Premier-League-Stats\"\n",
    "    season = \"2025-2026\"\n",
    "    print(f\"Fetching teams for {season}...\")\n",
    "    \n",
    "    soup = get_page(url)\n",
    "    if not soup:\n",
    "        return {}\n",
    "    \n",
    "    # Find the current season table - CORRECT table ID for 2025-2026\n",
    "    table = soup.find('table', {'id': 'results2025-202691_overall'})\n",
    "    \n",
    "    if not table:\n",
    "        print(f\"Table 'results2025-202691_overall' not found for {season}\")\n",
    "        return {}\n",
    "    \n",
    "    print(f\"Found table: {table.get('id', 'Unknown ID')}\")\n",
    "    \n",
    "    team_mapping = {}\n",
    "    tbody = table.find('tbody')\n",
    "    \n",
    "    if tbody:\n",
    "        rows = tbody.find_all('tr')\n",
    "        print(f\"Found tbody with {len(rows)} rows\")\n",
    "    else:\n",
    "        rows = table.find_all('tr')\n",
    "        print(f\"No tbody found, found {len(rows)} rows directly in table\")\n",
    "        # Skip header row if no tbody\n",
    "        rows = [row for row in rows if row.find('td')]\n",
    "        print(f\"After filtering header rows: {len(rows)} data rows\")\n",
    "    \n",
    "    print(f\"Processing {len(rows)} rows...\")\n",
    "    \n",
    "    for row in rows:\n",
    "        # Look for team cell (td element with data-stat='team')\n",
    "        team_cell = row.find('td', {'data-stat': 'team'})\n",
    "        if not team_cell:\n",
    "            continue\n",
    "            \n",
    "        # Extract team link\n",
    "        team_link = team_cell.find('a')\n",
    "        if not team_link:\n",
    "            continue\n",
    "            \n",
    "        team_name = team_link.text.strip()\n",
    "        team_href = team_link.get('href')\n",
    "        \n",
    "        # Extract team ID from href\n",
    "        if team_href and '/squads/' in team_href:\n",
    "            team_id_match = re.search(r'/squads/([a-f0-9]+)/', team_href)\n",
    "            if team_id_match:\n",
    "                team_id = team_id_match.group(1)\n",
    "                team_mapping[team_name] = {\n",
    "                    'team_id': team_id,\n",
    "                    'season': season,\n",
    "                    'href': team_href\n",
    "                }\n",
    "                print(f\"  {team_name}: {team_id}\")\n",
    "    \n",
    "    return team_mapping"
   ]
  },
  {
   "cell_type": "code",
   "execution_count": null,
   "metadata": {},
   "outputs": [],
   "source": [
    "# Execute the extraction\n",
    "teams_2025_2026 = extract_teams_2025_2026()\n",
    "print(f\"\\nTotal teams extracted for 2025-2026: {len(teams_2025_2026)}\")"
   ]
  },
  {
   "cell_type": "code",
   "execution_count": null,
   "metadata": {},
   "outputs": [],
   "source": [
    "# import json\n",
    "\n",
    "# # Convert sets to lists for JSON serialization (if needed)\n",
    "# serializable_teams = {}\n",
    "# for team_id, team_data in teams_2025_2026.items():\n",
    "#     serializable_teams[team_id] = {\n",
    "#         'team_name': team_id,\n",
    "#         'team_id': team_data['team_id'],\n",
    "#         'reference': team_data['href']  # Convert set to list\n",
    "#     }\n",
    "\n",
    "# #Save to JSON\n",
    "# with open('../../../data/prod/inference/raw/all_teams.json', 'w',       \n",
    "# encoding='utf-8') as f:\n",
    "#     json.dump(serializable_teams, f, indent=2,        \n",
    "# ensure_ascii=False)"
   ]
  }
 ],
 "metadata": {
  "kernelspec": {
   "display_name": "base",
   "language": "python",
   "name": "python3"
  },
  "language_info": {
   "codemirror_mode": {
    "name": "ipython",
    "version": 3
   },
   "file_extension": ".py",
   "mimetype": "text/x-python",
   "name": "python",
   "nbconvert_exporter": "python",
   "pygments_lexer": "ipython3",
   "version": "3.10.9"
  }
 },
 "nbformat": 4,
 "nbformat_minor": 4
}
